{
  "nbformat": 4,
  "nbformat_minor": 0,
  "metadata": {
    "colab": {
      "provenance": [],
      "machine_shape": "hm",
      "gpuType": "A100"
    },
    "kernelspec": {
      "name": "python3",
      "display_name": "Python 3"
    },
    "language_info": {
      "name": "python"
    },
    "accelerator": "GPU"
  },
  "cells": [
    {
      "cell_type": "markdown",
      "source": [
        "Just run the cell below!  It will install Conda with Python v.3.8, clone my fork of the AudioLDM2 repo, and run the app.  When it's finished starting up (it will take a while!) you will see a link at the bottom to your running gradio app."
      ],
      "metadata": {
        "id": "hri8MwVDD7Gj"
      }
    },
    {
      "cell_type": "code",
      "execution_count": null,
      "metadata": {
        "id": "8tSa2ZCTAQmL"
      },
      "outputs": [],
      "source": [
        "!wget -O mini.sh https://repo.anaconda.com/miniconda/Miniconda3-py38_4.8.2-Linux-x86_64.sh\n",
        "!chmod +x mini.sh\n",
        "!bash ./mini.sh -b -f -p /usr/local\n",
        "!python --version\n",
        "!pip install git+https://github.com/haoheliu/AudioLDM2.git\n",
        "!pip install ipykernel\n",
        "!git clone https://github.com/smrl/AudioLDM2\n",
        "%cd AudioLDM2\n",
        "!python app.py"
      ]
    }
  ]
}
